{
 "cells": [
  {
   "cell_type": "code",
   "execution_count": 9,
   "id": "b5b478e0",
   "metadata": {
    "scrolled": true
   },
   "outputs": [],
   "source": [
    "import numpy as np\n",
    "from matplotlib import pyplot as plt \n",
    "from matplotlib import animation as am\n",
    "from matplotlib import cm\n",
    "from kuramoto import * # import the kuramoto classes from file \n",
    "import matplotlib.image as mpimg"
   ]
  },
  {
   "cell_type": "markdown",
   "id": "e09c12f9",
   "metadata": {},
   "source": [
    "## Next, we set up and run some 2D simulations "
   ]
  },
  {
   "cell_type": "code",
   "execution_count": 10,
   "id": "d524b004",
   "metadata": {},
   "outputs": [
    {
     "name": "stderr",
     "output_type": "stream",
     "text": [
      "100%|██████████| 1000/1000 [00:03<00:00, 330.59it/s]\n"
     ]
    }
   ],
   "source": [
    "# Set up model parameters \n",
    "epsilon = 1\n",
    "eta = -1\n",
    "sigma = 0.2\n",
    "mean_omega = 0.4\n",
    "\n",
    "# Set up simulation parameters \n",
    "Lx = 32\n",
    "Ly = 32\n",
    "T = 1e3\n",
    "n_batches = T\n",
    "\n",
    "# Initialise the model and run the simulation \n",
    "model = Kuramoto2D(epsilon, eta, sigma, mean_omega, BC='grad', grad=[0, 0])\n",
    "model.initialise(Lx, Ly, T, n_batches, seed=1000)\n",
    "# model.omegas[15, 15] += 0.4\n",
    "model.omegas[0]=0 \n",
    "model.omegas[-1]=0 \n",
    "model.omegas[:, 0]=0\n",
    "model.omegas[:, -1]=0\n",
    "model.evolve() "
   ]
  },
  {
   "cell_type": "code",
   "execution_count": 11,
   "id": "1a1da5e4",
   "metadata": {},
   "outputs": [
    {
     "data": {
      "image/png": "[encoded data removed]",
      "text/plain": [
       "<Figure size 1080x504 with 2 Axes>"
      ]
     },
     "metadata": {
      "needs_background": "light"
     },
     "output_type": "display_data"
    }
   ],
   "source": [
    "last_slice = model.res[-1].reshape((Lx, Ly))\n",
    "\n",
    "plt.rcParams.update({\n",
    "    \"text.usetex\": True,\n",
    "    \"font.family\": \"serif\",\n",
    "    \"font.size\": 25,\n",
    "})\n",
    "\n",
    "fig, axes = plt.subplots(1, 2, figsize=(15, 7))\n",
    "\n",
    "im = axes[0].imshow(last_slice.T % (2*np.pi), origin='lower', cmap='twilight', aspect='auto')\n",
    "axes[0].set_xticks([])\n",
    "axes[0].set_yticks([])\n",
    "axes[0].set_title(r'Phase', y=1.03)\n",
    "\n",
    "axes[1].imshow(model.omegas)\n",
    "axes[1].set_title(r'Natural frequencies')\n",
    "plt.show() "
   ]
  },
  {
   "cell_type": "markdown",
   "id": "fb99ae16",
   "metadata": {},
   "source": [
    "## Make movie of the 2D simulation "
   ]
  },
  {
   "cell_type": "code",
   "execution_count": 12,
   "id": "b5bd6683",
   "metadata": {},
   "outputs": [],
   "source": [
    "# Reshape the result into 2D shape \n",
    "N = 100 # number of frames to use in making the movie \n",
    "phase_evolution = model.res.reshape((model.n_frames, model.Lx, model.Ly))\n",
    "phase_evolution = phase_evolution[-N::]\n",
    "\n",
    "# Set up figure plotting \n",
    "plt.rc('font', size=25)\n",
    "fig = plt.figure(figsize=(13, 10))\n",
    "low, high = 0, 2*np.pi \n",
    "\n",
    "# Plot the movie one snapshot at a time \n",
    "ims = []\n",
    "im = plt.imshow(phase_evolution[0].T, vmin=low, vmax=high, animated=True, cmap='twilight')\n",
    "plt.title(r'$\\sigma={}, \\epsilon ={}, \\eta ={}$'.format(sigma, epsilon, eta))\n",
    "plt.axis('off')\n",
    "cbar = plt.colorbar(im, shrink=0.6)\n",
    "cbar.set_ticks([0, 2*np.pi])\n",
    "cbar.set_ticklabels([r'0', r'$2\\pi$'])\n",
    "plt.tight_layout()\n",
    "for i in range(N):\n",
    "    xy = phase_evolution[i].T % (2*np.pi)\n",
    "    im = plt.imshow(xy, vmin=low, vmax=high, animated=True, cmap='twilight')\n",
    "    plt.axis('off')\n",
    "    ims.append([im])\n",
    "ani = am.ArtistAnimation(fig, ims, interval=100, blit=True,\n",
    "                                repeat_delay=1000)\n",
    "mywriter = am.FFMpegWriter()\n",
    "ani.save(\"movie_no_osci_bc_noise.mp4\", writer=mywriter)\n",
    "plt.close()\n"
   ]
  },
  {
   "cell_type": "markdown",
   "id": "065e35e1",
   "metadata": {},
   "source": [
    "## Now you will find a .mp4 file in the same folder"
   ]
  },
  {
   "cell_type": "code",
   "execution_count": null,
   "id": "35e84f0c",
   "metadata": {},
   "outputs": [],
   "source": []
  }
 ],
 "metadata": {
  "kernelspec": {
   "display_name": "Python 3",
   "language": "python",
   "name": "python3"
  },
  "language_info": {
   "codemirror_mode": {
    "name": "ipython",
    "version": 3
   },
   "file_extension": ".py",
   "mimetype": "text/x-python",
   "name": "python",
   "nbconvert_exporter": "python",
   "pygments_lexer": "ipython3",
   "version": "3.7.13"
  }
 },
 "nbformat": 4,
 "nbformat_minor": 5
}
