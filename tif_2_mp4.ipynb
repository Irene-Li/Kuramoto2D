{
 "cells": [
  {
   "cell_type": "code",
   "execution_count": 1,
   "id": "787e3cb8",
   "metadata": {},
   "outputs": [],
   "source": [
    "import numpy as np\n",
    "from matplotlib import pyplot as plt\n",
    "from matplotlib import animation\n",
    "from skimage import io"
   ]
  },
  {
   "cell_type": "code",
   "execution_count": 9,
   "id": "de19eee0",
   "metadata": {},
   "outputs": [],
   "source": [
    "def make_movie(stack):\n",
    "\n",
    "    T = len(stack)\n",
    "    vmin = np.amin(stack)\n",
    "    vmax= np.amax(stack)\n",
    "    \n",
    "    fig, ax = plt.subplots(1, 1, figsize=(6, 6))\n",
    "    p = ax.imshow(stack[0])\n",
    "\n",
    "    \n",
    "    def animate(i): \n",
    "        p.set_data(stack[i])\n",
    "        return [p]\n",
    "\n",
    "    ani = animation.FuncAnimation(fig, animate, interval=50, blit=True,\n",
    "                                    repeat_delay=1000, frames=T)\n",
    "    plt.close() \n",
    "    return ani "
   ]
  },
  {
   "cell_type": "code",
   "execution_count": 16,
   "id": "b836afab",
   "metadata": {},
   "outputs": [],
   "source": [
    "filenames = [\n",
    "    'AurB inhibitor_example 2.tif', \n",
    "    'MAX_Continuous Wee1 inh_50uM_14082023-01_AcquisitionBlock2.tif',\n",
    "    'MAX_chek1_12pg_11082023-01-2_AcquisitionBlock2.tif'\n",
    "]\n",
    "\n",
    "filename = 'Tiffs/' + filenames[2]\n",
    "stack = io.imread(filename)\n",
    "ani = make_movie(stack)"
   ]
  },
  {
   "cell_type": "code",
   "execution_count": 17,
   "id": "c17fff2d",
   "metadata": {},
   "outputs": [],
   "source": [
    "ani.save('{}.mp4'.format(filename[:-4]))"
   ]
  },
  {
   "cell_type": "code",
   "execution_count": null,
   "id": "ed5b3247",
   "metadata": {},
   "outputs": [],
   "source": []
  }
 ],
 "metadata": {
  "kernelspec": {
   "display_name": "Python 3",
   "language": "python",
   "name": "python3"
  },
  "language_info": {
   "codemirror_mode": {
    "name": "ipython",
    "version": 3
   },
   "file_extension": ".py",
   "mimetype": "text/x-python",
   "name": "python",
   "nbconvert_exporter": "python",
   "pygments_lexer": "ipython3",
   "version": "3.7.13"
  }
 },
 "nbformat": 4,
 "nbformat_minor": 5
}
