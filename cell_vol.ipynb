{
 "cells": [
  {
   "cell_type": "code",
   "execution_count": 17,
   "id": "06604b6b",
   "metadata": {},
   "outputs": [],
   "source": [
    "import numpy as np\n",
    "from matplotlib import pyplot as plt\n",
    "import pandas as pd \n",
    "import math"
   ]
  },
  {
   "cell_type": "code",
   "execution_count": 3,
   "id": "be84c6f4",
   "metadata": {},
   "outputs": [],
   "source": [
    "look_up = {\n",
    "    'Central Cell1':0b0000, \n",
    "    'Central Cell2':0b1000, \n",
    "    'Central Cell3':0b0100, \n",
    "    'Central Cell4':0b1100, \n",
    "    'Peripheral Cell1':0b0010, \n",
    "    'Peripheral Cell2':0b1010,\n",
    "    'Peripheral Cell3':0b0110, \n",
    "    'Peripheral Cell4':0b1110, \n",
    "    'Peripheral Cell5':0b0001, \n",
    "    'Peripheral Cell6':0b0011, \n",
    "    'Peripheral Cell7':0b1001, \n",
    "    'Peripheral Cell8':0b1011,\n",
    "    'Peripheral Cell9':0b0101, \n",
    "    'Peripheral Cell10':0b0111, \n",
    "    'Peripheral Cell11':0b1101, \n",
    "    'Peripheral Cell12': 0b1111\n",
    "}\n",
    "\n",
    "def read_cursed_csv(name): \n",
    "    df = pd.read_csv(name, sep=';')\n",
    "    df = df.replace(',', '.', regex=True)\n",
    "    return df\n",
    "\n",
    "def extract_info(df, double=False): \n",
    "    pos = df[['Position X', 'Position Y', 'Position Z']].to_numpy().astype('float')\n",
    "    vol = df['Volume'].to_numpy().astype('float')\n",
    "    if double: \n",
    "        index = np.array([look_up[convert(key)] for key in df['Surpass Object']])\n",
    "    else: \n",
    "        index = np.array([look_up[key] for key in df['Surpass Object']])\n",
    "    emb = df['Emb'].to_numpy().astype('int')\n",
    "    return pos, vol, index, emb\n",
    "\n",
    "def convert(cell_name):\n",
    "    s = str(int(cell_name[-2:]))\n",
    "    return cell_name[:-2] + s \n",
    "\n",
    "def check_cell_division(df, flag, last_round): \n",
    "    pos, vol, index, emb = extract_info(df, flag) \n",
    "    vol_data = [] \n",
    "    for e in [1, 2]:\n",
    "        vols = [] \n",
    "        evol = vol[emb == e]\n",
    "        eindex = index[emb == e]\n",
    "        for r in range(0, last_round+1):\n",
    "            for i in range(1 << r):\n",
    "                m = ((eindex >> (4-r)) == i)\n",
    "                d_vols = np.sum(evol[m]) # calculate volume of daughters \n",
    "                vols.append(d_vols)\n",
    "        vols = np.array(vols)\n",
    "        vol_data.append(vols)\n",
    "    return np.array(vol_data) \n",
    "\n",
    "\n",
    "def print_binary_tree(arr):\n",
    "    if len(arr)==0:\n",
    "        return\n",
    "\n",
    "    height = math.ceil(math.log2(len(arr) + 1))  # Calculate the height of the tree\n",
    "    max_width = 2 ** (height - 1)  # Maximum width of the tree at the last level\n",
    "\n",
    "    index = 0\n",
    "    for level in range(height):\n",
    "        level_length = 2 ** level  # Number of elements at the current level\n",
    "        spaces_before = max_width // (2 ** (level + 1))  # Spaces before the first element\n",
    "        spaces_between = max_width // (2 ** level)  # Spaces between elements at the current level\n",
    "\n",
    "        line = \"  \" * spaces_before\n",
    "        for i in range(level_length):\n",
    "            if index < len(arr):\n",
    "                line += '{:.2}'.format(arr[index])\n",
    "                index += 1\n",
    "                if i < level_length - 1:  # No trailing spaces after the last element on this level\n",
    "                    line += \" \" * spaces_between\n",
    "\n",
    "        print(line.center(max_width*3))  # Center the line to the max width"
   ]
  },
  {
   "cell_type": "code",
   "execution_count": 4,
   "id": "91786f6d",
   "metadata": {},
   "outputs": [],
   "source": [
    "df8 = read_cursed_csv('Data/CellVolumes/8-cell.csv')\n",
    "df16 = read_cursed_csv('Data/CellVolumes/16-cell.csv')\n",
    "flag8 = False \n",
    "flag16 = True"
   ]
  },
  {
   "cell_type": "code",
   "execution_count": 5,
   "id": "d62d2ae0",
   "metadata": {},
   "outputs": [],
   "source": [
    "sis_vols8 = check_cell_division(df8, flag8, 3)\n",
    "sis_vols16 = check_cell_division(df16, flag16, 4)"
   ]
  },
  {
   "cell_type": "code",
   "execution_count": 6,
   "id": "255843df",
   "metadata": {},
   "outputs": [
    {
     "name": "stdout",
     "output_type": "stream",
     "text": [
      "volume of cells\n",
      "              4.1       \n",
      "         2.1    2.1     \n",
      "   1.1  0.99  1.1  0.98 \n",
      "0.66 0.41 0.57 0.42 0.64 0.46 0.54 0.44\n",
      "\n",
      "\n",
      "ratio of sister cells\n",
      "      0.99  \n",
      "   1.1  1.1 \n",
      "1.6 1.3 1.4 1.2\n",
      "\n",
      "\n",
      "volume of cells\n",
      "                              3.3               \n",
      "                     1.6        1.7             \n",
      "            0.82    0.76    0.86    0.84        \n",
      "  0.48  0.33  0.38  0.38  0.44  0.42  0.42  0.42\n",
      "0.26 0.22 0.2 0.13 0.22 0.16 0.22 0.16 0.23 0.21 0.25 0.17 0.23 0.19 0.22 0.21\n",
      "\n",
      "\n",
      "ratio of sister cells\n",
      "              0.93      \n",
      "         1.1    1.0     \n",
      "   1.5  1.0  1.1  0.99  \n",
      "1.2 1.5 1.3 1.3 1.1 1.5 1.2 1.1\n",
      "\n",
      "\n",
      "volume of cells\n",
      "              3.8       \n",
      "         1.9    1.9     \n",
      "  0.89  1.0  0.89  0.98 \n",
      "0.49 0.4 0.54 0.47 0.48 0.41 0.54 0.44\n",
      "\n",
      "\n",
      "ratio of sister cells\n",
      "      1.0   \n",
      "  0.88  0.91\n",
      "1.2 1.1 1.2 1.2\n",
      "\n",
      "\n",
      "volume of cells\n",
      "                              3.7               \n",
      "                     1.8        1.9             \n",
      "             0.9    0.91    0.91    1.0         \n",
      "  0.48  0.41  0.49  0.42  0.45  0.45  0.52  0.48\n",
      "0.26 0.22 0.22 0.19 0.26 0.23 0.24 0.19 0.24 0.21 0.23 0.23 0.28 0.24 0.25 0.23\n",
      "\n",
      "\n",
      "ratio of sister cells\n",
      "              0.95      \n",
      "        0.98    0.91    \n",
      "    1.2  1.2  1.0  1.1  \n",
      "1.2 1.1 1.1 1.3 1.1 0.98 1.2 1.1\n",
      "\n",
      "\n"
     ]
    }
   ],
   "source": [
    "Ns = [8, 16]\n",
    "ratios = [[], []] \n",
    "\n",
    "for emb in [0, 1]: \n",
    "    for (i, v) in enumerate([sis_vols8, sis_vols16]):\n",
    "        print('volume of cells')\n",
    "        print_binary_tree(v[emb]/10e6)\n",
    "        \n",
    "        print('\\n')\n",
    "        print('ratio of sister cells')\n",
    "        v_r = v[emb, 1:].reshape((int(len((v[emb])-1)/2), 2))\n",
    "        ratio = v_r[:, 0]/v_r[:, 1]\n",
    "        print_binary_tree(ratio)\n",
    "        print('\\n')\n",
    "        \n",
    "        ratios[i].append(ratio[-int(Ns[i]/2):])"
   ]
  },
  {
   "cell_type": "code",
   "execution_count": 7,
   "id": "018ce31b",
   "metadata": {},
   "outputs": [],
   "source": [
    "r8, r16 = ratios \n",
    "\n",
    "r16_r = np.array(r16).reshape((2, 4, 2))"
   ]
  },
  {
   "cell_type": "code",
   "execution_count": 8,
   "id": "7e595cb6",
   "metadata": {},
   "outputs": [
    {
     "data": {
      "image/png": "[encoded data removed]",
      "text/plain": [
       "<Figure size 640x480 with 1 Axes>"
      ]
     },
     "metadata": {},
     "output_type": "display_data"
    }
   ],
   "source": [
    "plt.violinplot(list(map(np.ravel, [r8, r16_r[:, :, 0], r16_r[:, :, 1]])), \n",
    "                showmeans=True, widths=0.4)\n",
    "plt.xticks([1, 2, 3], labels=['8 cell', '16 cell inner', '16 cell outer'])\n",
    "plt.ylabel('ratio between sisters')\n",
    "plt.show() "
   ]
  },
  {
   "cell_type": "code",
   "execution_count": 85,
   "id": "d9c3dba8",
   "metadata": {},
   "outputs": [
    {
     "name": "stdout",
     "output_type": "stream",
     "text": [
      "mean ratio:  1.2357628308234136\n",
      "std ratio:  0.14921040398190877\n"
     ]
    }
   ],
   "source": [
    "flat_ratios = np.concatenate([item for sublist in ratios for item in sublist])\n",
    "m_ratio = np.mean(flat_ratios)\n",
    "std_ratio = np.std(flat_ratios)\n",
    "\n",
    "print('mean ratio: ', m_ratio)\n",
    "print('std ratio: ', std_ratio)"
   ]
  },
  {
   "cell_type": "code",
   "execution_count": 86,
   "id": "1bb6e5f5",
   "metadata": {},
   "outputs": [],
   "source": [
    "# generate simulations for 128 cell stage \n",
    "\n",
    "def find_depth(index):\n",
    "    return math.floor(math.log2(index + 1))\n",
    "\n",
    "def total_cells(depth):\n",
    "    return 2**(depth + 1) - 1\n",
    "\n",
    "\n",
    "V = 4.0\n",
    "vols = [V] # volume of cells at each stage in a breath first traversal order \n",
    "index = 0\n",
    "\n",
    "total = total_cells(7)\n",
    "\n",
    "for index in range(128): \n",
    "    V = vols[index]\n",
    "    n = find_depth(index)\n",
    "    m = 1 if n < 3 else m_ratio if n < 5 else 1\n",
    "    r = m + np.random.normal(0, std)\n",
    "    f1 = r/(1+r)\n",
    "    f2 = 1 - f1 \n",
    "    V1 = f1*V\n",
    "    V2 = f2*V \n",
    "    vols.extend([V1, V2])"
   ]
  },
  {
   "cell_type": "code",
   "execution_count": 87,
   "id": "dcb221cd",
   "metadata": {},
   "outputs": [
    {
     "name": "stdout",
     "output_type": "stream",
     "text": [
      "vols of first 4 rounds of cell divisions: (in mm^3)\n",
      "                              4.0               \n",
      "                     2.1        1.9             \n",
      "             1.0    1.1    0.98    0.93         \n",
      "  0.54  0.47  0.56  0.53  0.48  0.49  0.53  0.4 \n",
      "0.3 0.23 0.24 0.23 0.3 0.26 0.3 0.23 0.25 0.23 0.28 0.21 0.28 0.25 0.24 0.16\n"
     ]
    }
   ],
   "source": [
    "print('vols of first 4 rounds of cell divisions: (in mm^3)')\n",
    "print_binary_tree(vols[:total_cells(4)])"
   ]
  },
  {
   "cell_type": "code",
   "execution_count": 88,
   "id": "06c9661b",
   "metadata": {},
   "outputs": [],
   "source": [
    "last_round = vols[total_cells(6):]\n",
    "\n",
    "inner_cells_index = [0b0000, 0b1000, 0b0100, 0b1100]\n",
    "\n",
    "inner_cells = [v for (i, v) in enumerate(last_round) if (i >> 3) in inner_cells_index]\n",
    "outer_cells = [v for (i, v) in enumerate(last_round) if (i >> 3) not in inner_cells_index]"
   ]
  },
  {
   "cell_type": "code",
   "execution_count": 89,
   "id": "33f984db",
   "metadata": {},
   "outputs": [
    {
     "data": {
      "image/png": "[encoded data removed]",
      "text/plain": [
       "<Figure size 640x480 with 1 Axes>"
      ]
     },
     "metadata": {},
     "output_type": "display_data"
    }
   ],
   "source": [
    "plt.violinplot([inner_cells, outer_cells],\n",
    "                showmeans=True, widths=0.4)\n",
    "plt.xticks([1, 2], labels=['inner cell', 'outer cells'])\n",
    "plt.ylabel('volume of cells')\n",
    "plt.show() "
   ]
  },
  {
   "cell_type": "code",
   "execution_count": null,
   "id": "3feb4bde",
   "metadata": {},
   "outputs": [],
   "source": []
  },
  {
   "cell_type": "code",
   "execution_count": null,
   "id": "0e372717",
   "metadata": {},
   "outputs": [],
   "source": []
  }
 ],
 "metadata": {
  "kernelspec": {
   "display_name": "Python 3 (ipykernel)",
   "language": "python",
   "name": "python3"
  },
  "language_info": {
   "codemirror_mode": {
    "name": "ipython",
    "version": 3
   },
   "file_extension": ".py",
   "mimetype": "text/x-python",
   "name": "python",
   "nbconvert_exporter": "python",
   "pygments_lexer": "ipython3",
   "version": "3.11.8"
  }
 },
 "nbformat": 4,
 "nbformat_minor": 5
}
