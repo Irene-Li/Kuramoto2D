{
 "cells": [
  {
   "cell_type": "code",
   "execution_count": 29,
   "id": "b5b478e0",
   "metadata": {
    "scrolled": true
   },
   "outputs": [],
   "source": [
    "import numpy as np\n",
    "from matplotlib import pyplot as plt \n",
    "from matplotlib import animation as am\n",
    "from matplotlib import cm\n",
    "from kuramoto import * # import the kuramoto classes from file "
   ]
  },
  {
   "cell_type": "markdown",
   "id": "e09c12f9",
   "metadata": {},
   "source": [
    "## Next, we set up and run some 2D simulations "
   ]
  },
  {
   "cell_type": "code",
   "execution_count": 49,
   "id": "d524b004",
   "metadata": {},
   "outputs": [],
   "source": [
    "# Set up model parameters \n",
    "epsilon = 1 \n",
    "gamma = 0\n",
    "sigma = 0.2\n",
    "mean_omega = 0.5\n",
    "\n",
    "# Set up simulation parameters \n",
    "Lx = 32\n",
    "Ly = 32\n",
    "T = 1e3\n",
    "n_batches = T\n",
    "\n",
    "# Initialise the model and run the simulation \n",
    "model = Kuramoto2D(epsilon, gamma, sigma, mean_omega, BC='open')\n",
    "model.initialise(Lx, Ly, T, n_batches, seed=1000)\n",
    "model.omegas[0]=0 \n",
    "model.omegas[-1]=0 \n",
    "model.omegas[:, 0]=0\n",
    "model.omegas[:, -1]=0\n",
    "model.evolve() "
   ]
  },
  {
   "cell_type": "code",
   "execution_count": 53,
   "id": "c7eb3218",
   "metadata": {},
   "outputs": [
    {
     "data": {
      "image/png": "[encoded data removed]",
      "text/plain": [
       "<Figure size 432x288 with 2 Axes>"
      ]
     },
     "metadata": {
      "needs_background": "light"
     },
     "output_type": "display_data"
    },
    {
     "data": {
      "image/png": "[encoded data removed]",
      "text/plain": [
       "<Figure size 432x288 with 1 Axes>"
      ]
     },
     "metadata": {
      "needs_background": "light"
     },
     "output_type": "display_data"
    }
   ],
   "source": [
    "last_slice = model.res[-1].reshape((Lx, Ly))\n",
    "plt.imshow(last_slice.T % (2*np.pi), origin='lower', vmin=0, vmax=2*np.pi, cmap='twilight')\n",
    "plt.colorbar() \n",
    "plt.show() \n",
    "\n",
    "plt.imshow(model.omegas)\n",
    "plt.show() "
   ]
  },
  {
   "cell_type": "markdown",
   "id": "fb99ae16",
   "metadata": {},
   "source": [
    "## Make movie of the 2D simulation "
   ]
  },
  {
   "cell_type": "code",
   "execution_count": 51,
   "id": "b5bd6683",
   "metadata": {},
   "outputs": [],
   "source": [
    "# Reshape the result into 2D shape \n",
    "N = 100 # number of frames to use in making the movie \n",
    "phase_evolution = model.res.reshape((model.n_batches, model.Lx, model.Ly))\n",
    "phase_evolution = phase_evolution[-N:]\n",
    "\n",
    "# Set up figure plotting \n",
    "fig = plt.figure(figsize=(13, 10))\n",
    "low, high = 0, 2*np.pi \n",
    "\n",
    "# Plot the movie one snapshot at a time \n",
    "ims = []\n",
    "im = plt.imshow(phase_evolution[0].T, vmin=low, vmax=high, animated=True, cmap='twilight')\n",
    "plt.title(r'$\\sigma={}, \\epsilon ={}, \\gamma ={}$'.format(sigma, epsilon, gamma))\n",
    "plt.axis('off')\n",
    "cbar = plt.colorbar(im, shrink=0.6)\n",
    "cbar.set_ticks([0, 2*np.pi])\n",
    "cbar.set_ticklabels([r'0', r'$2\\pi$'])\n",
    "plt.tight_layout()\n",
    "for i in range(N):\n",
    "    xy = phase_evolution[i].T % (2*np.pi)\n",
    "    im = plt.imshow(xy, vmin=low, vmax=high, animated=True, cmap='twilight')\n",
    "    plt.axis('off')\n",
    "    ims.append([im])\n",
    "ani = am.ArtistAnimation(fig, ims, interval=100, blit=True,\n",
    "                                repeat_delay=1000)\n",
    "mywriter = am.FFMpegWriter()\n",
    "ani.save(\"movie.mp4\", writer=mywriter)\n",
    "plt.close()\n"
   ]
  },
  {
   "cell_type": "markdown",
   "id": "065e35e1",
   "metadata": {},
   "source": [
    "## Now you will find a video called \"movie.mp4\" in the same folder"
   ]
  },
  {
   "cell_type": "code",
   "execution_count": null,
   "id": "35e84f0c",
   "metadata": {},
   "outputs": [],
   "source": []
  }
 ],
 "metadata": {
  "kernelspec": {
   "display_name": "Python 3",
   "language": "python",
   "name": "python3"
  },
  "language_info": {
   "codemirror_mode": {
    "name": "ipython",
    "version": 3
   },
   "file_extension": ".py",
   "mimetype": "text/x-python",
   "name": "python",
   "nbconvert_exporter": "python",
   "pygments_lexer": "ipython3",
   "version": "3.7.9"
  }
 },
 "nbformat": 4,
 "nbformat_minor": 5
}
